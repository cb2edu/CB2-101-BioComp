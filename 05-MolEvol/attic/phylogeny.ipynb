{
 "cells": [
  {
   "cell_type": "markdown",
   "metadata": {},
   "source": [
    "# Phylogenetic Tree"
   ]
  },
  {
   "cell_type": "markdown",
   "metadata": {},
   "source": [
    "# Creating a distance tree\n",
    "We will use ```phylip``` to create a distance tree from the p53 protein alignment that we created eariler using ```muscle```. We can use a script to convert an existing aligment into ```phylip``` format (I wrote such a script called ```fasta2phylip.pl```) or we can realign the sequences using ```muscle```, but this time we can directly output in ```phylip``` format. We will use the following program from the ```phylip``` package:\n",
    "\n",
    "1. ```protdist``` creates a distance matrix from an alignment\n",
    "2.\t```neighbor``` will create a neighbor-joining tree\n",
    "\n",
    "Remember, all programs in phylip will take an ```infile``` and will create an ```outfile```.\n"
   ]
  },
  {
   "cell_type": "markdown",
   "metadata": {},
   "source": [
    "## Creating the alignment \n",
    "Copy the fasta file containing the p53 sequences into current directory. ```muscle``` can output two different ```phylip``` formats. We will use \"interleaved\". Note, we could have output several formats from ```muscle``` simultaneously during alignment, like this:"
   ]
  },
  {
   "cell_type": "code",
   "execution_count": null,
   "metadata": {
    "engine": "bash",
    "eval": false,
    "scrolled": true
   },
   "outputs": [],
   "source": [
    "muscle -in p53.fas -fastaout p53.afa -phyiout p53.phy "
   ]
  },
  {
   "cell_type": "markdown",
   "metadata": {},
   "source": [
    "## Get ```phylip```"
   ]
  },
  {
   "cell_type": "code",
   "execution_count": null,
   "metadata": {
    "engine": "bash",
    "eval": false
   },
   "outputs": [],
   "source": [
    "wget http://evolution.gs.washington.edu/phylip/download/phylip-3.697.tar.gz\n",
    "tar -xvzf phylip-3.697.tar.gz\n",
    "cd phylip-3.697/src\n",
    "#pwd\n",
    "make -f Makefile.unx install\n",
    "cd ../exe\n",
    "export PATH=$PATH:`pwd`\n",
    "cd ../..\n",
    "pwd\n",
    "which protdist"
   ]
  },
  {
   "cell_type": "markdown",
   "metadata": {},
   "source": [
    "## Running ```protdist```"
   ]
  },
  {
   "cell_type": "code",
   "execution_count": null,
   "metadata": {
    "engine": "bash",
    "eval": false,
    "lines_to_next_cell": 0
   },
   "outputs": [],
   "source": [
    "#cp p53.phy infile\n",
    "protdist <<EOF\n",
    "p53.phy\n",
    "y\n",
    "EOF\n"
   ]
  },
  {
   "cell_type": "markdown",
   "metadata": {},
   "source": [
    "This will create the distance matrix in a file ```outfile```. We need to rename this file so that it can be read my `neighbor`."
   ]
  },
  {
   "cell_type": "code",
   "execution_count": null,
   "metadata": {},
   "outputs": [],
   "source": [
    "#rm infile\n",
    "mv outfile infile"
   ]
  },
  {
   "cell_type": "markdown",
   "metadata": {},
   "source": [
    "\n",
    "\n",
    "## Running ```neighbor```"
   ]
  },
  {
   "cell_type": "code",
   "execution_count": null,
   "metadata": {
    "engine": "bash",
    "eval": false,
    "lines_to_next_cell": 0
   },
   "outputs": [],
   "source": [
    "neighbor <<EOF\n",
    "y\n",
    "EOF"
   ]
  },
  {
   "cell_type": "markdown",
   "metadata": {},
   "source": [
    "The tree will be produced in a file called ```outtree```:"
   ]
  },
  {
   "cell_type": "code",
   "execution_count": null,
   "metadata": {
    "engine": "bash",
    "eval": false
   },
   "outputs": [],
   "source": [
    "cat outtree"
   ]
  },
  {
   "cell_type": "markdown",
   "metadata": {},
   "source": [
    "This is a newick format tree.\n",
    "\n",
    "## Viewing the tree\n",
    "To view the tree we can use ```FigTree```. You can download it from here:\n",
    "\n",
    "http://tree.bio.ed.ac.uk/software/figtree/\n",
    "\n",
    "Download and run the software as\n",
    "\n",
    "`java -jar figtree.jar`\n",
    "\n",
    "![Tree generated using ```neighbor```](figures/outtree.pdf)\n",
    "\n",
    "We can also use R package ape to view the file. "
   ]
  },
  {
   "cell_type": "markdown",
   "metadata": {},
   "source": [
    "## Bootstrapping\n",
    "\n",
    "To get the statistical measurement of tree, we can use \"bootstrapping\". We have to start with the raw ```phylip``` file."
   ]
  },
  {
   "cell_type": "code",
   "execution_count": null,
   "metadata": {
    "engine": "bash",
    "eval": false,
    "lines_to_next_cell": 0
   },
   "outputs": [],
   "source": [
    "cd phylip-3.697/exe\n",
    "export PATH=$PATH:`pwd`\n",
    "cd ../..\n",
    "#cp p53.phy infile\n",
    "rm infile\n",
    "cp outtree njtree.tre\n",
    "cp p53.phy infile\n",
    "seqboot<<EOF\n",
    "y\n",
    "3\n",
    "EOF\n",
    "rm infile\n",
    "mv outfile infile"
   ]
  },
  {
   "cell_type": "markdown",
   "metadata": {},
   "source": [
    "Now follow the exact step described earlier. Don't forget to change the option **\"Multple data sets\"**. The treefile will now have 100 trees (if you have used 100 bootstrap datasets). "
   ]
  },
  {
   "cell_type": "code",
   "execution_count": null,
   "metadata": {},
   "outputs": [],
   "source": [
    "protdist <<EOF\n",
    "M\n",
    "D\n",
    "100\n",
    "y\n",
    "EOF\n",
    "rm infile\n",
    "mv outfile infile"
   ]
  },
  {
   "cell_type": "markdown",
   "metadata": {},
   "source": [
    "## Run neighbor again"
   ]
  },
  {
   "cell_type": "code",
   "execution_count": null,
   "metadata": {},
   "outputs": [],
   "source": [
    "rm outtree\n",
    "neighbor <<EOF\n",
    "M\n",
    "100\n",
    "3\n",
    "y\n",
    "EOF"
   ]
  },
  {
   "cell_type": "markdown",
   "metadata": {},
   "source": [
    "After you have created 100 trees. Run ```consense``` to get a consensus tree:"
   ]
  },
  {
   "cell_type": "code",
   "execution_count": null,
   "metadata": {
    "engine": "bash",
    "eval": false
   },
   "outputs": [],
   "source": [
    "rm outfile\n",
    "mv outtree intree\n",
    "consense <<EOF\n",
    "y\n",
    "EOF\n",
    "mv outtree neighbor_bootstrap.tre\n"
   ]
  },
  {
   "cell_type": "markdown",
   "metadata": {},
   "source": [
    "\n",
    "# Maximum likelihood tree using RAxML\n",
    "\n",
    "RAxML is a very efficient maximum likelihood phylogenetic analysis software that can run on a HPC settings. The software is generally used for very large datasets.\n",
    "\n",
    "Download RAxML from https://github.com/stamatak/standard-RAxML. There are several way to compile RAxML. For use with our virtual machine we will use a very simple option."
   ]
  },
  {
   "cell_type": "code",
   "execution_count": null,
   "metadata": {
    "engine": "bash",
    "eval": false,
    "lines_to_next_cell": 0
   },
   "outputs": [],
   "source": [
    "git clone https://github.com/stamatak/standard-RAxML.git\n",
    "cd standard-RAxML/\n",
    "make -f Makefile.gcc\n",
    "rm *.o\n",
    "cd .."
   ]
  },
  {
   "cell_type": "markdown",
   "metadata": {},
   "source": [
    "RAxML requires specification of a model. For nucleotide sequence the best option GTRGAMMA. For protein sequence any of the JTT models are fine. They are expanded PAM matrices.\n",
    "\n",
    "But we can tell RAXML for find the best model for us."
   ]
  },
  {
   "cell_type": "code",
   "execution_count": null,
   "metadata": {
    "engine": "bash",
    "eval": false,
    "lines_to_next_cell": 0
   },
   "outputs": [],
   "source": [
    "#cd 05-MolEvol\n",
    "./standard-RAxML/raxmlHPC -m PROTGAMMAAUTO -s p53.afa -p 12345 -n p53"
   ]
  },
  {
   "cell_type": "markdown",
   "metadata": {},
   "source": [
    "This will create the tree as ```RAxML_bestTree.p53```. \n",
    "\n",
    "We can also run a bootstrap analysis:"
   ]
  },
  {
   "cell_type": "code",
   "execution_count": null,
   "metadata": {},
   "outputs": [],
   "source": [
    "cat RAxML_bestTree.p53"
   ]
  },
  {
   "cell_type": "code",
   "execution_count": null,
   "metadata": {
    "engine": "bash",
    "eval": false,
    "lines_to_next_cell": 0
   },
   "outputs": [],
   "source": [
    "standard-RAxML/raxmlHPC -m PROTGAMMAJTT -s p53.afa -p 12345 -# 10 -f a -n p53_c -x 12345"
   ]
  },
  {
   "cell_type": "markdown",
   "metadata": {},
   "source": [
    "Unlike ```consense``` in ```phylip```. RAxML already geneartes a tree will bootstrap values already included. This is the file ```RAxML_bipartitions.p53_c``` How nice!\n",
    "\n",
    "\n",
    "\n",
    "\n",
    "\n",
    "\n",
    "\n",
    "\n",
    "\n",
    "\n",
    "\n",
    "\n",
    "\n",
    "\n"
   ]
  }
 ],
 "metadata": {
  "jupytext": {
   "cell_metadata_filter": "eval,engine,-all",
   "main_language": "R",
   "notebook_metadata_filter": "-all"
  },
  "kernelspec": {
   "display_name": "Bash",
   "language": "bash",
   "name": "bash"
  },
  "language_info": {
   "codemirror_mode": "shell",
   "file_extension": ".sh",
   "mimetype": "text/x-sh",
   "name": "bash"
  }
 },
 "nbformat": 4,
 "nbformat_minor": 4
}
