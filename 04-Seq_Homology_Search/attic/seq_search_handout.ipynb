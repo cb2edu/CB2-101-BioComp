{
 "cells": [
  {
   "cell_type": "markdown",
   "metadata": {
    "lines_to_next_cell": 0
   },
   "source": [
    "# CB2-101: Sequence Similarity Search\n",
    "Malay (malay@uab.edu)"
   ]
  },
  {
   "cell_type": "markdown",
   "metadata": {},
   "source": [
    "## Note\n",
    "\n",
    "NCBI has recently removed the C blast programs from there website. Please download last C BLAST from our own copy to use the example in this handout."
   ]
  },
  {
   "cell_type": "code",
   "execution_count": null,
   "metadata": {},
   "outputs": [],
   "source": [
    "wget \"http://cmb.path.uab.edu/training/2018/files/blast-2.2.26.tar.gz\"\n",
    "tar -xvzf blast-2.2.26.tar.gz"
   ]
  },
  {
   "cell_type": "markdown",
   "metadata": {},
   "source": [
    "Put blast in path."
   ]
  },
  {
   "cell_type": "code",
   "execution_count": null,
   "metadata": {},
   "outputs": [],
   "source": [
    "cd blast-2.2.26/bin\n",
    "export PATH=$PATH:`pwd`"
   ]
  },
  {
   "cell_type": "markdown",
   "metadata": {},
   "source": [
    "Check that `blast` is in your path."
   ]
  },
  {
   "cell_type": "code",
   "execution_count": null,
   "metadata": {},
   "outputs": [],
   "source": [
    "which blastall\n",
    "cd ../.."
   ]
  },
  {
   "cell_type": "markdown",
   "metadata": {},
   "source": [
    "Check that you are in outside of blast directory."
   ]
  },
  {
   "cell_type": "code",
   "execution_count": null,
   "metadata": {},
   "outputs": [],
   "source": [
    "pwd"
   ]
  },
  {
   "cell_type": "markdown",
   "metadata": {},
   "source": [
    "# Simple BLAST\n",
    "\n",
    "BLAST p53 human sequence against SwissProt database.\n",
    "\n",
    "## Download sequence files\n",
    "\n",
    "Download SwissProt FASTA file file:"
   ]
  },
  {
   "cell_type": "code",
   "execution_count": null,
   "metadata": {
    "engine": "bash",
    "eval": false,
    "scrolled": true
   },
   "outputs": [],
   "source": [
    "wget ftp://ftp.uniprot.org/pub/databases/uniprot/current_release/knowledgebase/complete/uniprot_sprot.fasta.gz"
   ]
  },
  {
   "cell_type": "markdown",
   "metadata": {},
   "source": [
    "Find the id of P53 using the Uniprot API."
   ]
  },
  {
   "cell_type": "code",
   "execution_count": null,
   "metadata": {
    "engine": "bash",
    "eval": false,
    "lines_to_next_cell": 0
   },
   "outputs": [],
   "source": [
    "wget -q -O p53.fas http://www.uniprot.org/uniprot/P53_HUMAN.fasta"
   ]
  },
  {
   "cell_type": "markdown",
   "metadata": {},
   "source": [
    "\n",
    "## Create the BLAST datbase and run BLASTP"
   ]
  },
  {
   "cell_type": "markdown",
   "metadata": {},
   "source": [
    "Check the `formatdb` command help. "
   ]
  },
  {
   "cell_type": "code",
   "execution_count": null,
   "metadata": {},
   "outputs": [],
   "source": [
    "formatdb -"
   ]
  },
  {
   "cell_type": "code",
   "execution_count": null,
   "metadata": {
    "engine": "bash",
    "eval": false
   },
   "outputs": [],
   "source": [
    "zcat uniprot_sprot.fasta.gz | formatdb -i stdin -t \"swissprot\" -o T -n \"swissprot\""
   ]
  },
  {
   "cell_type": "markdown",
   "metadata": {},
   "source": [
    "Note how we used the compressed file in a pipe to create the blast database. Now we will run the actual blast to search the p53 gene in Swissprot database."
   ]
  },
  {
   "cell_type": "code",
   "execution_count": null,
   "metadata": {},
   "outputs": [],
   "source": [
    "blastall -p blastp -i p53.fas -d swissprot -o output.bla"
   ]
  },
  {
   "cell_type": "markdown",
   "metadata": {},
   "source": [
    "To get a different output format."
   ]
  },
  {
   "cell_type": "code",
   "execution_count": null,
   "metadata": {},
   "outputs": [],
   "source": [
    "blastall -p blastp -i p53.fas -d swissprot -o output_tabular.bla -m 9"
   ]
  },
  {
   "cell_type": "markdown",
   "metadata": {},
   "source": [
    "## Is P53 is present in yeast genome?\n",
    "\n",
    "In this excerise you will download yeast genome and search the same p53 fasta agains yeast genome. The idea is to see whether p53 is present in yeast genome.\n"
   ]
  },
  {
   "cell_type": "markdown",
   "metadata": {},
   "source": [
    "\n",
    "First let's create the SC proteome file."
   ]
  },
  {
   "cell_type": "code",
   "execution_count": null,
   "metadata": {
    "cache": true,
    "engine": "bash",
    "eval": false,
    "lines_to_next_cell": 2
   },
   "outputs": [],
   "source": [
    "# Download all the files of SC from NCBI\n",
    "wget --quiet -O sc.faa.gz ftp://ftp.ncbi.nih.gov/genomes/refseq/fungi/Saccharomyces_cerevisiae/reference/GCF_000146045.2_R64/GCF_000146045.2_R64_protein.faa.gz\n"
   ]
  },
  {
   "cell_type": "markdown",
   "metadata": {},
   "source": [
    "Now format the database as shown above and run the p53.fas file against this database. What is your observation?\n"
   ]
  },
  {
   "cell_type": "code",
   "execution_count": null,
   "metadata": {
    "cache": true,
    "engine": "bash",
    "eval": false,
    "lines_to_next_cell": 0
   },
   "outputs": [],
   "source": []
  },
  {
   "cell_type": "markdown",
   "metadata": {},
   "source": [
    "\n"
   ]
  },
  {
   "cell_type": "markdown",
   "metadata": {
    "lines_to_next_cell": 0
   },
   "source": [
    "\n",
    "\n",
    "## HMMER\n",
    "\n",
    "```HMMER``` is the only known software for HMM use in bioinformatics. You can download HMMER from \n",
    "\n",
    "http://hmmer.janelia.org/software\n",
    "\n",
    "There are quite a few software that are bundled with HMMER distribution. But the 4 most common ones are:\n",
    "\n",
    "1. ```hmmsearch``` - Searches HMMs against protein sequences\n",
    "2. ```hmmscan``` - Searches protein sequences against HMM library\n",
    "3. ```hmmbuild``` - Builds HMM from a multiple alignment\n",
    "4. ```hmmpress``` - Convert a flat file HMM to binary format that can be used with the software\n",
    "\n",
    "\n",
    "We will search the SwissProt data with a profile of P53 gene.  \n",
    "\n",
    "We will first get a bunch of orthologs of P53 from the Homologene database.\n",
    "\n"
   ]
  },
  {
   "cell_type": "code",
   "execution_count": null,
   "metadata": {},
   "outputs": [],
   "source": [
    "wget --quiet ftp://ftp.ncbi.nih.gov/pub/HomoloGene/current/homologene.data"
   ]
  },
  {
   "cell_type": "markdown",
   "metadata": {},
   "source": [
    "Now we will grep the file to find p53."
   ]
  },
  {
   "cell_type": "code",
   "execution_count": null,
   "metadata": {
    "engine": "bash",
    "lines_to_next_cell": 0
   },
   "outputs": [],
   "source": [
    "cat homologene.data | grep -i tp53 | head -n 10"
   ]
  },
  {
   "cell_type": "markdown",
   "metadata": {
    "lines_to_next_cell": 0
   },
   "source": [
    "Looks like cluster 460 contains T53. We will use a bit of shell script to get the accession."
   ]
  },
  {
   "cell_type": "code",
   "execution_count": null,
   "metadata": {
    "engine": "bash",
    "eval": false,
    "lines_to_next_cell": 0
   },
   "outputs": [],
   "source": [
    "cat homologene.data | grep \"^460\" | grep -w -i TP53 | cut -f 6 >p53_homologene_ids.txt\n",
    "cat p53_homologene_ids.txt"
   ]
  },
  {
   "cell_type": "markdown",
   "metadata": {},
   "source": [
    "We will now use NCBI eutils to extract those sesquence. Let's create a fasta file with this ids:"
   ]
  },
  {
   "cell_type": "code",
   "execution_count": null,
   "metadata": {
    "engine": "bash",
    "eval": false,
    "lines_to_next_cell": 0
   },
   "outputs": [],
   "source": [
    "for i in `cat p53_homologene_ids.txt`\n",
    "do \n",
    "wget -q -O - \"http://eutils.ncbi.nlm.nih.gov/entrez/eutils/efetch.fcgi?\\\n",
    "db=protein&id=$i&rettype=fasta&retmode=text\"\n",
    "done >p53_all.fas"
   ]
  },
  {
   "cell_type": "markdown",
   "metadata": {},
   "source": [
    "We will first use ```muscle``` to align those sequence and create the HMM, then search SC genome with it. First and put muscle in path."
   ]
  },
  {
   "cell_type": "code",
   "execution_count": null,
   "metadata": {},
   "outputs": [],
   "source": [
    "wget https://www.drive5.com/muscle/downloads3.8.31/muscle3.8.31_i86linux64.tar.gz\n",
    "tar -xvzf muscle3.8.31_i86linux64.tar.gz\n",
    "mv muscle3.8.31_i86linux64 muscle\n",
    "which muscle"
   ]
  },
  {
   "cell_type": "markdown",
   "metadata": {},
   "source": [
    "Download and prepare `hmmer`."
   ]
  },
  {
   "cell_type": "code",
   "execution_count": null,
   "metadata": {},
   "outputs": [],
   "source": [
    "wget http://eddylab.org/software/hmmer/hmmer-3.3.tar.gz\n",
    "tar -xvzf hmmer-3.3.tar.gz"
   ]
  },
  {
   "cell_type": "markdown",
   "metadata": {},
   "source": [
    "Compile `hmmer`."
   ]
  },
  {
   "cell_type": "code",
   "execution_count": null,
   "metadata": {},
   "outputs": [],
   "source": [
    "cd hmmer-3.3\n",
    "./configure\n",
    "make"
   ]
  },
  {
   "cell_type": "markdown",
   "metadata": {},
   "source": [
    "Put `hmmer` in path."
   ]
  },
  {
   "cell_type": "code",
   "execution_count": null,
   "metadata": {},
   "outputs": [],
   "source": [
    "current_dir=`pwd`\n",
    "cd src\n",
    "export PATH=$PATH:`pwd`\n",
    "cd $current_dir\n",
    "cd ..\n",
    "pwd\n",
    "which hmmbuild"
   ]
  },
  {
   "cell_type": "markdown",
   "metadata": {},
   "source": [
    "Run muscle to create the alignment."
   ]
  },
  {
   "cell_type": "code",
   "execution_count": null,
   "metadata": {},
   "outputs": [],
   "source": [
    "./muscle -in p53_all.fas -out p53.aln"
   ]
  },
  {
   "cell_type": "markdown",
   "metadata": {},
   "source": [
    "Create the hmm."
   ]
  },
  {
   "cell_type": "code",
   "execution_count": null,
   "metadata": {},
   "outputs": [],
   "source": [
    "hmmbuild --informat afa p53.hmm p53.aln"
   ]
  },
  {
   "cell_type": "markdown",
   "metadata": {},
   "source": [
    "Search the hmm against swissprot database."
   ]
  },
  {
   "cell_type": "code",
   "execution_count": null,
   "metadata": {
    "engine": "bash",
    "eval": false
   },
   "outputs": [],
   "source": [
    "hmmsearch -o hits.txt p53.hmm uniprot_sprot.fasta.gz"
   ]
  },
  {
   "cell_type": "markdown",
   "metadata": {},
   "source": [
    "Check the result."
   ]
  },
  {
   "cell_type": "code",
   "execution_count": null,
   "metadata": {},
   "outputs": [],
   "source": [
    "cat hits.txt | head"
   ]
  }
 ],
 "metadata": {
  "jupytext": {
   "cell_metadata_filter": "eval,language,cache,engine,-all",
   "main_language": "R",
   "notebook_metadata_filter": "-all"
  },
  "kernelspec": {
   "display_name": "Bash",
   "language": "bash",
   "name": "bash"
  },
  "language_info": {
   "codemirror_mode": "shell",
   "file_extension": ".sh",
   "mimetype": "text/x-sh",
   "name": "bash"
  }
 },
 "nbformat": 4,
 "nbformat_minor": 4
}
