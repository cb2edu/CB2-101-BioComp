{
 "cells": [
  {
   "cell_type": "markdown",
   "metadata": {},
   "source": [
    "# Alignment and variant detection\n",
    "\n",
    "## Alignment\n",
    "\n",
    "Download the data and alignment software."
   ]
  },
  {
   "cell_type": "code",
   "execution_count": null,
   "metadata": {},
   "outputs": [],
   "source": [
    "wget https://github.com/cb2edu/CB2-101-BioComp/raw/2020/08-Alignment_and_variant_calling/data/sample_data.tar.gz\n",
    "tar -xvzf sample_data.tar.gz"
   ]
  },
  {
   "cell_type": "markdown",
   "metadata": {},
   "source": [
    "Download BWA."
   ]
  },
  {
   "cell_type": "code",
   "execution_count": null,
   "metadata": {},
   "outputs": [],
   "source": [
    "wget -O bwa.tar.bz2 \"https://downloads.sourceforge.net/project/bio-bwa/bwa-0.7.17.tar.bz2?r=https%3A%2F%2Fsourceforge.net%2Fprojects%2Fbio-bwa%2Ffiles%2Flatest%2Fdownload&ts=1605561416\"\n",
    "tar -xvjf bwa.tar.bz2"
   ]
  },
  {
   "cell_type": "markdown",
   "metadata": {},
   "source": [
    "Compile BWA."
   ]
  },
  {
   "cell_type": "code",
   "execution_count": null,
   "metadata": {},
   "outputs": [],
   "source": [
    "cd bwa-0.7.17\n",
    "make\n",
    "cd .."
   ]
  },
  {
   "cell_type": "markdown",
   "metadata": {},
   "source": [
    "Index the reference genome using bwa."
   ]
  },
  {
   "cell_type": "code",
   "execution_count": null,
   "metadata": {},
   "outputs": [],
   "source": [
    "./bwa-0.7.17/bwa\n",
    "./bwa-0.7.17/bwa index sample_data/chr20.fa -p chr20"
   ]
  },
  {
   "cell_type": "markdown",
   "metadata": {},
   "source": [
    "Carry out the alignment."
   ]
  },
  {
   "cell_type": "code",
   "execution_count": null,
   "metadata": {},
   "outputs": [],
   "source": [
    "./bwa-0.7.17/bwa mem chr20 sample_data/SRR765989_F1.fastq sample_data/SRR765989_F2.fastq | samtools view -bS >SRR765989.bam"
   ]
  },
  {
   "cell_type": "markdown",
   "metadata": {},
   "source": [
    "Sort the bam file by coordinates."
   ]
  },
  {
   "cell_type": "code",
   "execution_count": null,
   "metadata": {},
   "outputs": [],
   "source": [
    "samtools sort SRR765989.bam >SRR765989.sorted.bam"
   ]
  },
  {
   "cell_type": "markdown",
   "metadata": {},
   "source": [
    "### Generating pileup"
   ]
  },
  {
   "cell_type": "code",
   "execution_count": null,
   "metadata": {
    "scrolled": true
   },
   "outputs": [],
   "source": [
    "samtools mpileup -f sample_data/chr20.fa SRR765989.sorted.bam | head -n 50"
   ]
  },
  {
   "cell_type": "markdown",
   "metadata": {},
   "source": [
    "Each line corresponds to a position on the genome. \n",
    "\n",
    "The columns are: chromosome, position, reference base, read depth, read bases (dot . and comma , indicate match on the forward and on the reverse strand; ACGTN and acgtn a mismatch on the forward and the reverse strand) and the final column is the base qualities encoded into characters. The caret symbol ^ marks the start of a read, the dollar sign $ the end of a read, deleted bases are represented by asterisk *.\n",
    "\n",
    "This output can be used for a simple consensus calling. One rarely needs this type of output. Instead, for a more sophisticated variant calling method, see the next section."
   ]
  },
  {
   "cell_type": "markdown",
   "metadata": {},
   "source": [
    "### Exercises\n",
    "Modify the `mpileup` command above and answer the following questions.\n",
    "\n",
    "**Q1:** What is the read depth at position 60158? (Rather than scrolling to the position, use grep to find the position. Before doing this, check if the above command has finished running, if not, you may need to interrupt it)\n",
    "\n",
    "**Q2:** What is the reference base and the alternate base at the 60158? \n",
    "\n",
    "**Q3:** How many reference and how many non-reference bases are there?"
   ]
  },
  {
   "cell_type": "code",
   "execution_count": null,
   "metadata": {},
   "outputs": [],
   "source": []
  },
  {
   "cell_type": "markdown",
   "metadata": {},
   "source": [
    "## Variant detection\n",
    "\n",
    "Create an index for the reference."
   ]
  },
  {
   "cell_type": "code",
   "execution_count": null,
   "metadata": {},
   "outputs": [],
   "source": [
    "samtools faidx sample_data/chr20.fa"
   ]
  },
  {
   "cell_type": "markdown",
   "metadata": {},
   "source": [
    "Download GATK."
   ]
  },
  {
   "cell_type": "code",
   "execution_count": null,
   "metadata": {},
   "outputs": [],
   "source": [
    "wget https://github.com/broadinstitute/gatk/releases/download/4.1.9.0/gatk-4.1.9.0.zip"
   ]
  },
  {
   "cell_type": "code",
   "execution_count": null,
   "metadata": {},
   "outputs": [],
   "source": [
    "unzip gatk-4.1.9.0.zip"
   ]
  },
  {
   "cell_type": "markdown",
   "metadata": {},
   "source": [
    "Download Picard."
   ]
  },
  {
   "cell_type": "code",
   "execution_count": null,
   "metadata": {},
   "outputs": [],
   "source": [
    "#cd ..\n",
    "wget https://github.com/broadinstitute/picard/releases/download/2.23.8/picard.jar"
   ]
  },
  {
   "cell_type": "markdown",
   "metadata": {},
   "source": [
    "Marduplicates using picard."
   ]
  },
  {
   "cell_type": "code",
   "execution_count": null,
   "metadata": {},
   "outputs": [],
   "source": [
    "java -jar picard.jar MarkDuplicates INPUT=SRR765989.sorted.bam OUTPUT=SRR765989.dup.bam \\\n",
    "METRICS_FILE=picard_metrics.txt VALIDATION_STRINGENCY=LENIENT"
   ]
  },
  {
   "cell_type": "markdown",
   "metadata": {},
   "source": [
    "Create a sequency dictionary, a required step for running GATK."
   ]
  },
  {
   "cell_type": "code",
   "execution_count": null,
   "metadata": {},
   "outputs": [],
   "source": [
    "cd sample_data/\n",
    "java -jar ../picard.jar CreateSequenceDictionary REFERENCE=chr20.fa OUTPUT=chr20.dict"
   ]
  },
  {
   "cell_type": "markdown",
   "metadata": {},
   "source": [
    "Add readgroups to bam file. For the description of readgroups look here: https://software.broadinstitute.org/gatk/documentation/article.php?id=6472"
   ]
  },
  {
   "cell_type": "code",
   "execution_count": null,
   "metadata": {},
   "outputs": [],
   "source": [
    "cd .."
   ]
  },
  {
   "cell_type": "code",
   "execution_count": null,
   "metadata": {},
   "outputs": [],
   "source": [
    "java -jar picard.jar AddOrReplaceReadGroups I=SRR765989.dup.bam O=SRR765989.dup.rg.bam RGID=4 RGLB=lib1 RGPL=illumina RGPU=unit1 RGSM=20 CREATE_INDEX=true"
   ]
  },
  {
   "cell_type": "markdown",
   "metadata": {},
   "source": [
    "We are now ready to run GATK. First well realign the bam files (No longer needed for GATK v4). Use the following code if you are using an old version of GATK.\n",
    "\n",
    "```\n",
    "## create realignment target\n",
    "java -jar ../GenomeAnalysisTK.jar -T RealignerTargetCreator -R gatk_ref/chr20.fa -o SRR765989.paired.bam.list -I SRR765989.dup.rg.bam\n",
    "\n",
    "# Realign\n",
    "java -jar ../GenomeAnalysisTK.jar -I SRR765989.dup.rg.bam -R gatk_ref/chr20.fa -T IndelRealigner -targetIntervals SRR765989.paired.bam.list -o SRR765989.realigned.bam\n",
    "```"
   ]
  },
  {
   "cell_type": "markdown",
   "metadata": {},
   "source": [
    "We have to use a base recalibration stage before we can call SNV. Check the `run.sh` file for this step. For this excersize we will skip that stage."
   ]
  },
  {
   "cell_type": "markdown",
   "metadata": {},
   "source": [
    "#### Download dbSNP\n",
    "This is prepackaged for this class for easy access. The original data can be accessed from GATK resource bundle."
   ]
  },
  {
   "cell_type": "code",
   "execution_count": null,
   "metadata": {},
   "outputs": [],
   "source": [
    "wget http://cmb.path.uab.edu/training/2020/files/Homo_sapiens_assembly38.dbsnp138.vcf.tar.xz"
   ]
  },
  {
   "cell_type": "code",
   "execution_count": null,
   "metadata": {
    "scrolled": true
   },
   "outputs": [],
   "source": [
    "tar -xvJf Homo_sapiens_assembly38.dbsnp138.vcf.tar.xz"
   ]
  },
  {
   "cell_type": "markdown",
   "metadata": {},
   "source": [
    "#### Recalibrate the bases"
   ]
  },
  {
   "cell_type": "code",
   "execution_count": null,
   "metadata": {},
   "outputs": [],
   "source": [
    "gatk-4.1.9.0/gatk BaseRecalibrator  -R sample_data/chr20.fa  -I SRR765989.dup.rg.bam --known-sites Homo_sapiens_assembly38.dbsnp138.vcf -O SRR765989.recal_data.csv"
   ]
  },
  {
   "cell_type": "code",
   "execution_count": null,
   "metadata": {},
   "outputs": [],
   "source": [
    "gatk-4.1.9.0/gatk ApplyBQSR -R sample_data/chr20.fa  -I SRR765989.dup.rg.bam --bqsr-recal-file SRR765989.recal_data.csv -O SRR765989.recal.bam"
   ]
  },
  {
   "cell_type": "markdown",
   "metadata": {},
   "source": [
    "Now we can call SNPs."
   ]
  },
  {
   "cell_type": "code",
   "execution_count": null,
   "metadata": {},
   "outputs": [],
   "source": [
    "gatk-4.1.9.0/gatk HaplotypeCaller -R sample_data/chr20.fa  -I SRR765989.recal.bam -O raw_variants.vcf --dbsnp Homo_sapiens_assembly38.dbsnp138.vcf"
   ]
  },
  {
   "cell_type": "markdown",
   "metadata": {},
   "source": [
    "For full happlotype caller check the `run.sh` file."
   ]
  },
  {
   "cell_type": "markdown",
   "metadata": {},
   "source": [
    "#### VQSR\n",
    "\n",
    "We cannot run VQSR is our dataset. The coverage is too low. The command is for demonstration only. For details see: https://gatk.broadinstitute.org/hc/en-us/articles/360035531612-Variant-Quality-Score-Recalibration-VQSR-"
   ]
  },
  {
   "cell_type": "markdown",
   "metadata": {},
   "source": [
    "```\n",
    "gatk-4.1.9.0/gatk VariantRecalibrator -R sample_data/chr20.fa -V raw_variants.vcf \\\n",
    "--resource:hapmap,known=false,training=true,truth=true,prior=15.0 hapmap_3.3.hg38.vcf.gz \\\n",
    "--resource:dbsnp,known=true,training=false,truth=false,prior=2.0 Homo_sapiens_assembly38.dbsnp138.vcf \\\n",
    "-mode SNP \\\n",
    "--tranches-file output.tranches \\\n",
    "-O output.vqsr \\\n",
    "-an AF\n",
    "\n",
    "gatk ApplyVQSR \\\n",
    "   -R Homo_sapiens_assembly38.fasta \\\n",
    "   -V input.vcf.gz \\\n",
    "   -O output.vcf.gz \\\n",
    "   --truth-sensitivity-filter-level 99.0 \\\n",
    "   --tranches-file output.tranches \\\n",
    "   --recal-file output.recal \\\n",
    "   -mode SNP\n",
    "```"
   ]
  },
  {
   "cell_type": "code",
   "execution_count": null,
   "metadata": {},
   "outputs": [],
   "source": [
    "cat raw_variants.vcf"
   ]
  },
  {
   "cell_type": "markdown",
   "metadata": {},
   "source": [
    "For real-life scenario, you need run a VQSR filtering step. See `run.sh` for details."
   ]
  },
  {
   "cell_type": "markdown",
   "metadata": {},
   "source": [
    "### Exercises\n",
    "\n",
    "Look at the content of the VCF file produced above and answers the questions that follow (Remember to wait until the command above has finished running!). "
   ]
  },
  {
   "cell_type": "code",
   "execution_count": null,
   "metadata": {},
   "outputs": [],
   "source": [
    "cat raw_variants.vcf | grep 64048910"
   ]
  },
  {
   "cell_type": "markdown",
   "metadata": {},
   "source": [
    "**Q1:** What is the reference base and the alternate base at position 64048910?\n",
    "\n",
    "**Q2:** What is the total raw read depth at position 64048910? \n",
    "\n",
    "**Q3:** What is the number of high-quality reads supporting the SNP call at position 64048910? How many reads support the reference allele and how many support the alternate allele? \n",
    "\n",
    "**Hint:** Look up the AD tag in the FORMAT column: the first value gives the number of reference reads and the second gives the number of non-reference reads.\n",
    "\n",
    "**Q4:** What sort of event is happening at position 64048910? "
   ]
  },
  {
   "cell_type": "markdown",
   "metadata": {},
   "source": [
    "## Variant annotation"
   ]
  },
  {
   "cell_type": "code",
   "execution_count": null,
   "metadata": {},
   "outputs": [],
   "source": [
    "wget https://snpeff.blob.core.windows.net/versions/snpEff_latest_core.zip"
   ]
  },
  {
   "cell_type": "code",
   "execution_count": null,
   "metadata": {},
   "outputs": [],
   "source": [
    "unzip snpEff_latest_core.zip"
   ]
  },
  {
   "cell_type": "markdown",
   "metadata": {},
   "source": [
    "Find which database to use."
   ]
  },
  {
   "cell_type": "code",
   "execution_count": null,
   "metadata": {},
   "outputs": [],
   "source": [
    "java -Xmx2g -Djava.io.tmpdir=. -jar snpEff/snpEff.jar databases | grep -i Homo_sapiens"
   ]
  },
  {
   "cell_type": "markdown",
   "metadata": {},
   "source": [
    "We will use `hg19`."
   ]
  },
  {
   "cell_type": "code",
   "execution_count": null,
   "metadata": {},
   "outputs": [],
   "source": [
    "java -Xmx2g -Djava.io.tmpdir=. -jar snpEff/snpEff.jar -v hg19 raw_variants.vcf >SRR765989.snpeff.vcf"
   ]
  }
 ],
 "metadata": {
  "kernelspec": {
   "display_name": "Bash",
   "language": "bash",
   "name": "bash"
  },
  "language_info": {
   "codemirror_mode": "shell",
   "file_extension": ".sh",
   "mimetype": "text/x-sh",
   "name": "bash"
  }
 },
 "nbformat": 4,
 "nbformat_minor": 2
}
